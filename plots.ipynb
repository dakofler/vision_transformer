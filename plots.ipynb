{
 "cells": [
  {
   "cell_type": "code",
   "execution_count": 4,
   "metadata": {},
   "outputs": [],
   "source": [
    "import math\n",
    "import os\n",
    "\n",
    "import matplotlib.pyplot as plt\n",
    "import numpy as np\n",
    "import pandas as pd\n",
    "import scienceplots"
   ]
  },
  {
   "cell_type": "code",
   "execution_count": 5,
   "metadata": {},
   "outputs": [],
   "source": [
    "RUNS = os.listdir(\"runs/\")\n",
    "\n",
    "TAGS = [\n",
    "    \"train/loss\",\n",
    "    \"train/accuracy\",\n",
    "    \"Accuracy_train\",\n",
    "    \"validation/loss\",\n",
    "    \"validation/accuracy\"\n",
    "]\n",
    "\n",
    "LABELS = [\n",
    "    \"Training Loss\",\n",
    "    \"Training Accuracy\",\n",
    "    \"Validation Loss\",\n",
    "    \"Validation Accuracy\"\n",
    "]"
   ]
  },
  {
   "cell_type": "code",
   "execution_count": null,
   "metadata": {},
   "outputs": [],
   "source": [
    "# WIP\n",
    "\n",
    "with plt.style.context('science'):\n",
    "    plt.figure(figsize=(12, 12), dpi=300)\n",
    "\n",
    "    for i, tag in enumerate(TAGS):\n",
    "        resnet_ds = pd.read_csv(f\"runs/run-ResNet_2024-05-26_18-55-35-tag-{tag}.csv\")\n",
    "        plainnet_ds = pd.read_csv(f\"runs/run-PlainNet_2024-05-26_19-20-18-tag-{tag}.csv\")\n",
    "\n",
    "        steps = np.array(resnet_ds[\"Step\"])\n",
    "        n = 10 if tag[-5:] == \"train\" else 5\n",
    "\n",
    "        resnet_values = np.array(resnet_ds[\"Value\"])\n",
    "        resnet_values_ext = np.stack([resnet_values[:i].mean().item() for i in range(1, n)])\n",
    "        resnet_values_conv = np.convolve(resnet_values, np.ones(n)/n, mode=\"valid\")\n",
    "        resnet_values_mean = np.concatenate([resnet_values_ext, resnet_values_conv])\n",
    "\n",
    "        plainnet_values = np.array(plainnet_ds[\"Value\"])\n",
    "        plainnet_values_ext = np.stack([plainnet_values[:i].mean().item() for i in range(1, n)])\n",
    "        plainnet_values_conv = np.convolve(plainnet_values, np.ones(n)/n, mode=\"valid\")\n",
    "        plainnet_values_mean = np.concatenate([plainnet_values_ext, plainnet_values_conv])\n",
    "\n",
    "        plt.subplot(3, 2, i+1)\n",
    "        plt.subplots_adjust(bottom=0.1)\n",
    "        \n",
    "        if tag[-5:] == \"train\":\n",
    "            plt.xticks(range(0, 600, 100))\n",
    "            plt.xlabel(\"Step\")\n",
    "            plt.vlines([360, 360], -1, 5, color=\"grey\", linewidth=0.5, linestyle=\"dashed\")\n",
    "        else:\n",
    "            plt.xticks(range(0, 25, 5))\n",
    "            plt.xlabel(\"Epoch\")\n",
    "\n",
    "        plt.plot(steps, resnet_values, linewidth=0.5, linestyle=\"dashed\", label=\"ResNet\", c=\"red\")\n",
    "        plt.plot(steps, resnet_values_mean, linewidth=1.5, label=\"ResNet (smoothed)\", c=\"red\")\n",
    "\n",
    "        plt.plot(steps, plainnet_values, linewidth=0.5, linestyle=\"dashed\", label=\"PlainNet\", c=\"blue\")\n",
    "        plt.plot(steps, plainnet_values_mean, linewidth=1.5, label=\"PlainNet (smoothed)\", c=\"blue\")\n",
    "\n",
    "        if \"Loss\" in tag:\n",
    "            plt.yticks(np.arange(0, 5, 0.5))\n",
    "            plt.ylim([-0.1, 4.5])\n",
    "        else:\n",
    "            plt.yticks(np.arange(0, 1.2, 0.2))\n",
    "            plt.ylim([-0.1, 1.1])\n",
    "        plt.ylabel(LABELS[i])\n",
    "\n",
    "        plt.legend()\n",
    "    \n",
    "    plt.show()"
   ]
  }
 ],
 "metadata": {
  "kernelspec": {
   "display_name": "fh_nn",
   "language": "python",
   "name": "python3"
  },
  "language_info": {
   "codemirror_mode": {
    "name": "ipython",
    "version": 3
   },
   "file_extension": ".py",
   "mimetype": "text/x-python",
   "name": "python",
   "nbconvert_exporter": "python",
   "pygments_lexer": "ipython3",
   "version": "3.12.8"
  }
 },
 "nbformat": 4,
 "nbformat_minor": 2
}
